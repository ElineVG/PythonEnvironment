{
 "cells": [
  {
   "cell_type": "code",
   "execution_count": 2,
   "metadata": {},
   "outputs": [
    {
     "name": "stdout",
     "output_type": "stream",
     "text": [
      "Requirement already satisfied: psychopy in c:\\users\\u0090621\\appdata\\roaming\\python\\python37\\site-packages (3.1.2)\n",
      "Requirement already satisfied: gevent in c:\\users\\u0090621\\appdata\\local\\continuum\\anaconda3\\lib\\site-packages (from psychopy) (1.4.0)\n",
      "Requirement already satisfied: pyserial in c:\\users\\u0090621\\appdata\\roaming\\python\\python37\\site-packages (from psychopy) (3.4)\n",
      "Requirement already satisfied: scipy in c:\\users\\u0090621\\appdata\\local\\continuum\\anaconda3\\lib\\site-packages (from psychopy) (1.3.1)\n",
      "Requirement already satisfied: moviepy in c:\\users\\u0090621\\appdata\\local\\continuum\\anaconda3\\lib\\site-packages (from psychopy) (1.0.1)\n",
      "Requirement already satisfied: cffi in c:\\users\\u0090621\\appdata\\local\\continuum\\anaconda3\\lib\\site-packages (from psychopy) (1.12.3)\n",
      "Requirement already satisfied: numpy in c:\\users\\u0090621\\appdata\\local\\continuum\\anaconda3\\lib\\site-packages (from psychopy) (1.16.5)\n",
      "Requirement already satisfied: pyopengl in c:\\users\\u0090621\\appdata\\local\\continuum\\anaconda3\\lib\\site-packages (from psychopy) (3.1.0)\n",
      "Requirement already satisfied: python-bidi in c:\\users\\u0090621\\appdata\\roaming\\python\\python37\\site-packages (from psychopy) (0.4.0)\n",
      "Requirement already satisfied: psutil in c:\\users\\u0090621\\appdata\\local\\continuum\\anaconda3\\lib\\site-packages (from psychopy) (5.6.3)\n",
      "Requirement already satisfied: imageio-ffmpeg; python_version >= \"3\" in c:\\users\\u0090621\\appdata\\local\\continuum\\anaconda3\\lib\\site-packages (from psychopy) (0.3.0)\n",
      "Requirement already satisfied: matplotlib in c:\\users\\u0090621\\appdata\\local\\continuum\\anaconda3\\lib\\site-packages (from psychopy) (3.1.1)\n",
      "Requirement already satisfied: openpyxl in c:\\users\\u0090621\\appdata\\local\\continuum\\anaconda3\\lib\\site-packages (from psychopy) (3.0.0)\n",
      "Requirement already satisfied: msgpack-numpy in c:\\users\\u0090621\\appdata\\local\\continuum\\anaconda3\\lib\\site-packages (from psychopy) (0.4.4.3)\n",
      "Requirement already satisfied: python-gitlab in c:\\users\\u0090621\\appdata\\local\\continuum\\anaconda3\\lib\\site-packages (from psychopy) (1.13.0)\n",
      "Requirement already satisfied: requests[security] in c:\\users\\u0090621\\appdata\\local\\continuum\\anaconda3\\lib\\site-packages (from psychopy) (2.22.0)\n",
      "Requirement already satisfied: soundfile in c:\\users\\u0090621\\appdata\\local\\continuum\\anaconda3\\lib\\site-packages (from psychopy) (0.10.2)\n",
      "Requirement already satisfied: pillow in c:\\users\\u0090621\\appdata\\local\\continuum\\anaconda3\\lib\\site-packages (from psychopy) (6.2.0)\n",
      "Requirement already satisfied: pyqt5; python_version >= \"3\" in c:\\users\\u0090621\\appdata\\local\\continuum\\anaconda3\\lib\\site-packages (from psychopy) (5.9)\n",
      "Requirement already satisfied: wxPython!=4.0.2,!=4.0.3; platform_system != \"Linux\" in c:\\users\\u0090621\\appdata\\local\\continuum\\anaconda3\\lib\\site-packages (from psychopy) (4.0.7.post1)\n",
      "Requirement already satisfied: pyglet in c:\\users\\u0090621\\appdata\\local\\continuum\\anaconda3\\lib\\site-packages (from psychopy) (1.3.2)\n",
      "Requirement already satisfied: imageio>=2.5; python_version >= \"3\" in c:\\users\\u0090621\\appdata\\local\\continuum\\anaconda3\\lib\\site-packages (from psychopy) (2.6.0)\n",
      "Requirement already satisfied: pandas in c:\\users\\u0090621\\appdata\\local\\continuum\\anaconda3\\lib\\site-packages (from psychopy) (0.25.1)\n",
      "Requirement already satisfied: future in c:\\users\\u0090621\\appdata\\local\\continuum\\anaconda3\\lib\\site-packages (from psychopy) (0.18.2)\n",
      "Requirement already satisfied: pypiwin32; platform_system == \"Windows\" in c:\\users\\u0090621\\appdata\\local\\continuum\\anaconda3\\lib\\site-packages (from psychopy) (223)\n",
      "Requirement already satisfied: pyWinhook; platform_system == \"Windows\" in c:\\users\\u0090621\\appdata\\roaming\\python\\python37\\site-packages (from psychopy) (1.6.1)\n",
      "Requirement already satisfied: msgpack-python in c:\\users\\u0090621\\appdata\\local\\continuum\\anaconda3\\lib\\site-packages (from psychopy) (0.5.6)\n",
      "Requirement already satisfied: xlrd in c:\\users\\u0090621\\appdata\\local\\continuum\\anaconda3\\lib\\site-packages (from psychopy) (1.2.0)\n",
      "Requirement already satisfied: pyzmq in c:\\users\\u0090621\\appdata\\local\\continuum\\anaconda3\\lib\\site-packages (from psychopy) (18.1.0)\n",
      "Requirement already satisfied: freetype-py in c:\\users\\u0090621\\appdata\\local\\continuum\\anaconda3\\lib\\site-packages (from psychopy) (2.1.0.post1)\n",
      "Requirement already satisfied: pyqmix>=2018.12.13; platform_system == \"Windows\" in c:\\users\\u0090621\\appdata\\local\\continuum\\anaconda3\\lib\\site-packages (from psychopy) (2019.1)\n",
      "Requirement already satisfied: esprima in c:\\users\\u0090621\\appdata\\local\\continuum\\anaconda3\\lib\\site-packages (from psychopy) (4.0.1)\n",
      "Requirement already satisfied: pyosf in c:\\users\\u0090621\\appdata\\local\\continuum\\anaconda3\\lib\\site-packages (from psychopy) (1.0.5)\n",
      "Requirement already satisfied: arabic-reshaper in c:\\users\\u0090621\\appdata\\local\\continuum\\anaconda3\\lib\\site-packages (from psychopy) (2.0.15)\n",
      "Requirement already satisfied: astunparse in c:\\users\\u0090621\\appdata\\local\\continuum\\anaconda3\\lib\\site-packages (from psychopy) (1.6.2)\n",
      "Requirement already satisfied: json-tricks in c:\\users\\u0090621\\appdata\\local\\continuum\\anaconda3\\lib\\site-packages (from psychopy) (3.13.4)\n",
      "Requirement already satisfied: sounddevice in c:\\users\\u0090621\\appdata\\roaming\\python\\python37\\site-packages (from psychopy) (0.3.13)\n",
      "Requirement already satisfied: gitpython in c:\\users\\u0090621\\appdata\\local\\continuum\\anaconda3\\lib\\site-packages (from psychopy) (3.0.4)\n",
      "Requirement already satisfied: tables in c:\\users\\u0090621\\appdata\\local\\continuum\\anaconda3\\lib\\site-packages (from psychopy) (3.5.2)\n",
      "Requirement already satisfied: pyyaml in c:\\users\\u0090621\\appdata\\local\\continuum\\anaconda3\\lib\\site-packages (from psychopy) (5.1.2)\n",
      "Requirement already satisfied: greenlet>=0.4.14 in c:\\users\\u0090621\\appdata\\local\\continuum\\anaconda3\\lib\\site-packages (from gevent->psychopy) (0.4.15)\n",
      "Requirement already satisfied: proglog<=1.0.0 in c:\\users\\u0090621\\appdata\\roaming\\python\\python37\\site-packages (from moviepy->psychopy) (0.1.9)\n",
      "Requirement already satisfied: decorator<5.0,>=4.0.2 in c:\\users\\u0090621\\appdata\\local\\continuum\\anaconda3\\lib\\site-packages (from moviepy->psychopy) (4.4.0)\n",
      "Requirement already satisfied: tqdm<5.0,>=4.11.2 in c:\\users\\u0090621\\appdata\\local\\continuum\\anaconda3\\lib\\site-packages (from moviepy->psychopy) (4.36.1)\n",
      "Requirement already satisfied: pycparser in c:\\users\\u0090621\\appdata\\local\\continuum\\anaconda3\\lib\\site-packages (from cffi->psychopy) (2.19)\n",
      "Requirement already satisfied: six in c:\\users\\u0090621\\appdata\\local\\continuum\\anaconda3\\lib\\site-packages (from python-bidi->psychopy) (1.12.0)\n",
      "Requirement already satisfied: cycler>=0.10 in c:\\users\\u0090621\\appdata\\local\\continuum\\anaconda3\\lib\\site-packages (from matplotlib->psychopy) (0.10.0)\n",
      "Requirement already satisfied: kiwisolver>=1.0.1 in c:\\users\\u0090621\\appdata\\local\\continuum\\anaconda3\\lib\\site-packages (from matplotlib->psychopy) (1.1.0)\n",
      "Requirement already satisfied: pyparsing!=2.0.4,!=2.1.2,!=2.1.6,>=2.0.1 in c:\\users\\u0090621\\appdata\\local\\continuum\\anaconda3\\lib\\site-packages (from matplotlib->psychopy) (2.4.2)\n",
      "Requirement already satisfied: python-dateutil>=2.1 in c:\\users\\u0090621\\appdata\\local\\continuum\\anaconda3\\lib\\site-packages (from matplotlib->psychopy) (2.8.0)\n",
      "Requirement already satisfied: et-xmlfile in c:\\users\\u0090621\\appdata\\local\\continuum\\anaconda3\\lib\\site-packages (from openpyxl->psychopy) (1.0.1)\n",
      "Requirement already satisfied: jdcal in c:\\users\\u0090621\\appdata\\local\\continuum\\anaconda3\\lib\\site-packages (from openpyxl->psychopy) (1.4.1)\n",
      "Requirement already satisfied: msgpack>=0.5.2 in c:\\users\\u0090621\\appdata\\local\\continuum\\anaconda3\\lib\\site-packages (from msgpack-numpy->psychopy) (0.6.1)\n",
      "Requirement already satisfied: idna<2.9,>=2.5 in c:\\users\\u0090621\\appdata\\local\\continuum\\anaconda3\\lib\\site-packages (from requests[security]->psychopy) (2.8)\n",
      "Requirement already satisfied: certifi>=2017.4.17 in c:\\users\\u0090621\\appdata\\local\\continuum\\anaconda3\\lib\\site-packages (from requests[security]->psychopy) (2019.9.11)\n",
      "Requirement already satisfied: chardet<3.1.0,>=3.0.2 in c:\\users\\u0090621\\appdata\\local\\continuum\\anaconda3\\lib\\site-packages (from requests[security]->psychopy) (3.0.4)\n",
      "Requirement already satisfied: urllib3!=1.25.0,!=1.25.1,<1.26,>=1.21.1 in c:\\users\\u0090621\\appdata\\local\\continuum\\anaconda3\\lib\\site-packages (from requests[security]->psychopy) (1.24.2)\n",
      "Requirement already satisfied: cryptography>=1.3.4; extra == \"security\" in c:\\users\\u0090621\\appdata\\local\\continuum\\anaconda3\\lib\\site-packages (from requests[security]->psychopy) (2.7)\n",
      "Requirement already satisfied: pyOpenSSL>=0.14; extra == \"security\" in c:\\users\\u0090621\\appdata\\local\\continuum\\anaconda3\\lib\\site-packages (from requests[security]->psychopy) (19.0.0)\n",
      "Requirement already satisfied: sip<4.20,>=4.19.3 in c:\\users\\u0090621\\appdata\\local\\continuum\\anaconda3\\lib\\site-packages (from pyqt5; python_version >= \"3\"->psychopy) (4.19.8)\n",
      "Requirement already satisfied: pytz>=2017.2 in c:\\users\\u0090621\\appdata\\local\\continuum\\anaconda3\\lib\\site-packages (from pandas->psychopy) (2019.3)\n",
      "Requirement already satisfied: pywin32>=223 in c:\\users\\u0090621\\appdata\\local\\continuum\\anaconda3\\lib\\site-packages (from pypiwin32; platform_system == \"Windows\"->psychopy) (223)\n",
      "Requirement already satisfied: ruamel.yaml in c:\\users\\u0090621\\appdata\\local\\continuum\\anaconda3\\lib\\site-packages (from pyqmix>=2018.12.13; platform_system == \"Windows\"->psychopy) (0.16.5)\n",
      "Requirement already satisfied: appdirs in c:\\users\\u0090621\\appdata\\local\\continuum\\anaconda3\\lib\\site-packages (from pyqmix>=2018.12.13; platform_system == \"Windows\"->psychopy) (1.4.3)\n",
      "Requirement already satisfied: setuptools in c:\\users\\u0090621\\appdata\\local\\continuum\\anaconda3\\lib\\site-packages (from arabic-reshaper->psychopy) (41.4.0)\n",
      "Requirement already satisfied: wheel<1.0,>=0.23.0 in c:\\users\\u0090621\\appdata\\local\\continuum\\anaconda3\\lib\\site-packages (from astunparse->psychopy) (0.33.6)\n",
      "Requirement already satisfied: gitdb2>=2.0.0 in c:\\users\\u0090621\\appdata\\local\\continuum\\anaconda3\\lib\\site-packages (from gitpython->psychopy) (2.0.6)\n",
      "Requirement already satisfied: numexpr>=2.6.2 in c:\\users\\u0090621\\appdata\\local\\continuum\\anaconda3\\lib\\site-packages (from tables->psychopy) (2.7.0)\n",
      "Requirement already satisfied: mock>=2.0 in c:\\users\\u0090621\\appdata\\roaming\\python\\python37\\site-packages (from tables->psychopy) (3.0.5)\n",
      "Requirement already satisfied: asn1crypto>=0.21.0 in c:\\users\\u0090621\\appdata\\local\\continuum\\anaconda3\\lib\\site-packages (from cryptography>=1.3.4; extra == \"security\"->requests[security]->psychopy) (1.0.1)\n",
      "Requirement already satisfied: ruamel.yaml.clib>=0.1.2; platform_python_implementation == \"CPython\" and python_version < \"3.8\" in c:\\users\\u0090621\\appdata\\local\\continuum\\anaconda3\\lib\\site-packages (from ruamel.yaml->pyqmix>=2018.12.13; platform_system == \"Windows\"->psychopy) (0.2.0)\n",
      "Requirement already satisfied: smmap2>=2.0.0 in c:\\users\\u0090621\\appdata\\local\\continuum\\anaconda3\\lib\\site-packages (from gitdb2>=2.0.0->gitpython->psychopy) (2.0.5)\n",
      "Note: you may need to restart the kernel to use updated packages.\n"
     ]
    }
   ],
   "source": [
    "pip install psychopy"
   ]
  },
  {
   "cell_type": "code",
   "execution_count": 5,
   "metadata": {},
   "outputs": [],
   "source": [
    "from psychopy import visual, core  # import some libraries from PsychoPy\n",
    "\n",
    "#create a window\n",
    "mywin = visual.Window([800,600], monitor=\"testMonitor\", units=\"deg\")\n",
    "\n",
    "#create some stimuli\n",
    "grating = visual.GratingStim(win=mywin, mask=\"circle\", size=3, pos=[-4,0], sf=3)\n",
    "fixation = visual.GratingStim(win=mywin, size=0.5, pos=[0,0], sf=0, rgb=-1)\n",
    "\n",
    "#draw the stimuli and update the window\n",
    "grating.draw()\n",
    "fixation.draw()\n",
    "mywin.update()\n",
    "\n",
    "#pause, so you get a chance to see it!\n",
    "core.wait(5.0)"
   ]
  },
  {
   "cell_type": "code",
   "execution_count": 3,
   "metadata": {},
   "outputs": [
    {
     "name": "stdout",
     "output_type": "stream",
     "text": [
      "3.8169 \tWARNING \tUse of rgb arguments to stimuli are deprecated. Please use color and colorSpace args instead\n"
     ]
    }
   ],
   "source": [
    "mywin.close()"
   ]
  }
 ],
 "metadata": {
  "kernelspec": {
   "display_name": "Python 3",
   "language": "python",
   "name": "python3"
  },
  "language_info": {
   "codemirror_mode": {
    "name": "ipython",
    "version": 3
   },
   "file_extension": ".py",
   "mimetype": "text/x-python",
   "name": "python",
   "nbconvert_exporter": "python",
   "pygments_lexer": "ipython3",
   "version": "3.7.4"
  }
 },
 "nbformat": 4,
 "nbformat_minor": 2
}
